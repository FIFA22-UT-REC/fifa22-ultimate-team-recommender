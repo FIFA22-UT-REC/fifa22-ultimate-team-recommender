{
 "cells": [
  {
   "cell_type": "code",
   "execution_count": 1,
   "id": "44d04045-b1e2-45a3-b51e-55bed329f2b5",
   "metadata": {},
   "outputs": [
    {
     "name": "stderr",
     "output_type": "stream",
     "text": [
      "── \u001b[1mAttaching packages\u001b[22m ─────────────────────────────────────── tidyverse 1.3.1 ──\n",
      "\n",
      "\u001b[32m✔\u001b[39m \u001b[34mggplot2\u001b[39m 3.3.5     \u001b[32m✔\u001b[39m \u001b[34mpurrr  \u001b[39m 0.3.4\n",
      "\u001b[32m✔\u001b[39m \u001b[34mtibble \u001b[39m 3.1.6     \u001b[32m✔\u001b[39m \u001b[34mdplyr  \u001b[39m 1.0.7\n",
      "\u001b[32m✔\u001b[39m \u001b[34mtidyr  \u001b[39m 1.1.4     \u001b[32m✔\u001b[39m \u001b[34mstringr\u001b[39m 1.4.0\n",
      "\u001b[32m✔\u001b[39m \u001b[34mreadr  \u001b[39m 2.1.2     \u001b[32m✔\u001b[39m \u001b[34mforcats\u001b[39m 0.5.1\n",
      "\n",
      "── \u001b[1mConflicts\u001b[22m ────────────────────────────────────────── tidyverse_conflicts() ──\n",
      "\u001b[31m✖\u001b[39m \u001b[34mdplyr\u001b[39m::\u001b[32mfilter()\u001b[39m masks \u001b[34mstats\u001b[39m::filter()\n",
      "\u001b[31m✖\u001b[39m \u001b[34mdplyr\u001b[39m::\u001b[32mlag()\u001b[39m    masks \u001b[34mstats\u001b[39m::lag()\n",
      "\n"
     ]
    }
   ],
   "source": [
    "library(tidyverse)"
   ]
  },
  {
   "cell_type": "code",
   "execution_count": 7,
   "id": "9f336828-5bd1-42a8-9999-c39b9213a9b6",
   "metadata": {},
   "outputs": [
    {
     "data": {
      "text/html": [
       "'/Users/jinghan/Desktop/fifa/fifa22-ultimate-team-recommender/data/raw'"
      ],
      "text/latex": [
       "'/Users/jinghan/Desktop/fifa/fifa22-ultimate-team-recommender/data/raw'"
      ],
      "text/markdown": [
       "'/Users/jinghan/Desktop/fifa/fifa22-ultimate-team-recommender/data/raw'"
      ],
      "text/plain": [
       "[1] \"/Users/jinghan/Desktop/fifa/fifa22-ultimate-team-recommender/data/raw\""
      ]
     },
     "metadata": {},
     "output_type": "display_data"
    }
   ],
   "source": [
    "getwd()"
   ]
  },
  {
   "cell_type": "code",
   "execution_count": 9,
   "id": "2ea02cb5-1f51-4650-9c75-26a92d7c3981",
   "metadata": {},
   "outputs": [],
   "source": [
    "row <- read.csv(\"player_raw_data.csv\")"
   ]
  },
  {
   "cell_type": "code",
   "execution_count": 10,
   "id": "707d08eb-d106-4fb6-b372-5c2144a0965e",
   "metadata": {},
   "outputs": [
    {
     "data": {
      "text/html": [
       "<table class=\"dataframe\">\n",
       "<caption>A data.frame: 6 × 42</caption>\n",
       "<thead>\n",
       "\t<tr><th></th><th scope=col>name</th><th scope=col>country</th><th scope=col>age</th><th scope=col>overall</th><th scope=col>potential</th><th scope=col>club</th><th scope=col>best_position</th><th scope=col>value..K.</th><th scope=col>wage..ERO.</th><th scope=col>Crossing</th><th scope=col>⋯</th><th scope=col>Vision</th><th scope=col>Penalties</th><th scope=col>Composure</th><th scope=col>Defensive.Awareness</th><th scope=col>Standing.Tackle</th><th scope=col>Sliding.Tackle</th><th scope=col>Diving</th><th scope=col>Handling</th><th scope=col>Kicking</th><th scope=col>Reflexes</th></tr>\n",
       "\t<tr><th></th><th scope=col>&lt;chr&gt;</th><th scope=col>&lt;chr&gt;</th><th scope=col>&lt;int&gt;</th><th scope=col>&lt;int&gt;</th><th scope=col>&lt;int&gt;</th><th scope=col>&lt;chr&gt;</th><th scope=col>&lt;chr&gt;</th><th scope=col>&lt;int&gt;</th><th scope=col>&lt;int&gt;</th><th scope=col>&lt;int&gt;</th><th scope=col>⋯</th><th scope=col>&lt;int&gt;</th><th scope=col>&lt;int&gt;</th><th scope=col>&lt;int&gt;</th><th scope=col>&lt;int&gt;</th><th scope=col>&lt;int&gt;</th><th scope=col>&lt;int&gt;</th><th scope=col>&lt;int&gt;</th><th scope=col>&lt;int&gt;</th><th scope=col>&lt;int&gt;</th><th scope=col>&lt;int&gt;</th></tr>\n",
       "</thead>\n",
       "<tbody>\n",
       "\t<tr><th scope=row>1</th><td>Greg Halford    </td><td>England  </td><td>36</td><td>59</td><td>59</td><td>Waterford FC             </td><td>CB</td><td> 40</td><td> 500</td><td>53</td><td>⋯</td><td>52</td><td>61</td><td>61</td><td>59</td><td>61</td><td>59</td><td>12</td><td>16</td><td>11</td><td>14</td></tr>\n",
       "\t<tr><th scope=row>2</th><td>Santiago Silva  </td><td>Uruguay  </td><td>40</td><td>71</td><td>71</td><td>Club Atlético Aldosivi   </td><td>ST</td><td>  0</td><td>7000</td><td>52</td><td>⋯</td><td>68</td><td>74</td><td>76</td><td>37</td><td>39</td><td>34</td><td>13</td><td>11</td><td>13</td><td>15</td></tr>\n",
       "\t<tr><th scope=row>3</th><td>Sammy Bossut    </td><td>Belgium  </td><td>35</td><td>69</td><td>69</td><td>SV Zulte Waregem         </td><td>GK</td><td>150</td><td>4000</td><td>12</td><td>⋯</td><td>49</td><td>17</td><td>47</td><td>22</td><td>14</td><td>13</td><td>67</td><td>70</td><td>63</td><td>68</td></tr>\n",
       "\t<tr><th scope=row>4</th><td>Marcelo Barovero</td><td>Argentina</td><td>37</td><td>70</td><td>70</td><td>Club Atlético de San Luis</td><td>GK</td><td>180</td><td>5000</td><td>14</td><td>⋯</td><td>51</td><td>20</td><td>64</td><td>19</td><td>16</td><td>14</td><td>68</td><td>66</td><td>63</td><td>71</td></tr>\n",
       "\t<tr><th scope=row>5</th><td>Enrique Bologna </td><td>Argentina</td><td>39</td><td>72</td><td>72</td><td>Club Atlético Banfield   </td><td>GK</td><td>250</td><td>5000</td><td>21</td><td>⋯</td><td>53</td><td>25</td><td>65</td><td>12</td><td>22</td><td>17</td><td>74</td><td>67</td><td>72</td><td>74</td></tr>\n",
       "\t<tr><th scope=row>6</th><td>Santiago Salcedo</td><td>Paraguay </td><td>39</td><td>66</td><td>66</td><td>General Caballero (JLM)  </td><td>ST</td><td>300</td><td> 500</td><td>59</td><td>⋯</td><td>60</td><td>79</td><td>59</td><td>14</td><td>36</td><td>34</td><td>12</td><td>13</td><td>14</td><td>15</td></tr>\n",
       "</tbody>\n",
       "</table>\n"
      ],
      "text/latex": [
       "A data.frame: 6 × 42\n",
       "\\begin{tabular}{r|lllllllllllllllllllll}\n",
       "  & name & country & age & overall & potential & club & best\\_position & value..K. & wage..ERO. & Crossing & ⋯ & Vision & Penalties & Composure & Defensive.Awareness & Standing.Tackle & Sliding.Tackle & Diving & Handling & Kicking & Reflexes\\\\\n",
       "  & <chr> & <chr> & <int> & <int> & <int> & <chr> & <chr> & <int> & <int> & <int> & ⋯ & <int> & <int> & <int> & <int> & <int> & <int> & <int> & <int> & <int> & <int>\\\\\n",
       "\\hline\n",
       "\t1 & Greg Halford     & England   & 36 & 59 & 59 & Waterford FC              & CB &  40 &  500 & 53 & ⋯ & 52 & 61 & 61 & 59 & 61 & 59 & 12 & 16 & 11 & 14\\\\\n",
       "\t2 & Santiago Silva   & Uruguay   & 40 & 71 & 71 & Club Atlético Aldosivi    & ST &   0 & 7000 & 52 & ⋯ & 68 & 74 & 76 & 37 & 39 & 34 & 13 & 11 & 13 & 15\\\\\n",
       "\t3 & Sammy Bossut     & Belgium   & 35 & 69 & 69 & SV Zulte Waregem          & GK & 150 & 4000 & 12 & ⋯ & 49 & 17 & 47 & 22 & 14 & 13 & 67 & 70 & 63 & 68\\\\\n",
       "\t4 & Marcelo Barovero & Argentina & 37 & 70 & 70 & Club Atlético de San Luis & GK & 180 & 5000 & 14 & ⋯ & 51 & 20 & 64 & 19 & 16 & 14 & 68 & 66 & 63 & 71\\\\\n",
       "\t5 & Enrique Bologna  & Argentina & 39 & 72 & 72 & Club Atlético Banfield    & GK & 250 & 5000 & 21 & ⋯ & 53 & 25 & 65 & 12 & 22 & 17 & 74 & 67 & 72 & 74\\\\\n",
       "\t6 & Santiago Salcedo & Paraguay  & 39 & 66 & 66 & General Caballero (JLM)   & ST & 300 &  500 & 59 & ⋯ & 60 & 79 & 59 & 14 & 36 & 34 & 12 & 13 & 14 & 15\\\\\n",
       "\\end{tabular}\n"
      ],
      "text/markdown": [
       "\n",
       "A data.frame: 6 × 42\n",
       "\n",
       "| <!--/--> | name &lt;chr&gt; | country &lt;chr&gt; | age &lt;int&gt; | overall &lt;int&gt; | potential &lt;int&gt; | club &lt;chr&gt; | best_position &lt;chr&gt; | value..K. &lt;int&gt; | wage..ERO. &lt;int&gt; | Crossing &lt;int&gt; | ⋯ ⋯ | Vision &lt;int&gt; | Penalties &lt;int&gt; | Composure &lt;int&gt; | Defensive.Awareness &lt;int&gt; | Standing.Tackle &lt;int&gt; | Sliding.Tackle &lt;int&gt; | Diving &lt;int&gt; | Handling &lt;int&gt; | Kicking &lt;int&gt; | Reflexes &lt;int&gt; |\n",
       "|---|---|---|---|---|---|---|---|---|---|---|---|---|---|---|---|---|---|---|---|---|---|\n",
       "| 1 | Greg Halford     | England   | 36 | 59 | 59 | Waterford FC              | CB |  40 |  500 | 53 | ⋯ | 52 | 61 | 61 | 59 | 61 | 59 | 12 | 16 | 11 | 14 |\n",
       "| 2 | Santiago Silva   | Uruguay   | 40 | 71 | 71 | Club Atlético Aldosivi    | ST |   0 | 7000 | 52 | ⋯ | 68 | 74 | 76 | 37 | 39 | 34 | 13 | 11 | 13 | 15 |\n",
       "| 3 | Sammy Bossut     | Belgium   | 35 | 69 | 69 | SV Zulte Waregem          | GK | 150 | 4000 | 12 | ⋯ | 49 | 17 | 47 | 22 | 14 | 13 | 67 | 70 | 63 | 68 |\n",
       "| 4 | Marcelo Barovero | Argentina | 37 | 70 | 70 | Club Atlético de San Luis | GK | 180 | 5000 | 14 | ⋯ | 51 | 20 | 64 | 19 | 16 | 14 | 68 | 66 | 63 | 71 |\n",
       "| 5 | Enrique Bologna  | Argentina | 39 | 72 | 72 | Club Atlético Banfield    | GK | 250 | 5000 | 21 | ⋯ | 53 | 25 | 65 | 12 | 22 | 17 | 74 | 67 | 72 | 74 |\n",
       "| 6 | Santiago Salcedo | Paraguay  | 39 | 66 | 66 | General Caballero (JLM)   | ST | 300 |  500 | 59 | ⋯ | 60 | 79 | 59 | 14 | 36 | 34 | 12 | 13 | 14 | 15 |\n",
       "\n"
      ],
      "text/plain": [
       "  name             country   age overall potential club                     \n",
       "1 Greg Halford     England   36  59      59        Waterford FC             \n",
       "2 Santiago Silva   Uruguay   40  71      71        Club Atlético Aldosivi   \n",
       "3 Sammy Bossut     Belgium   35  69      69        SV Zulte Waregem         \n",
       "4 Marcelo Barovero Argentina 37  70      70        Club Atlético de San Luis\n",
       "5 Enrique Bologna  Argentina 39  72      72        Club Atlético Banfield   \n",
       "6 Santiago Salcedo Paraguay  39  66      66        General Caballero (JLM)  \n",
       "  best_position value..K. wage..ERO. Crossing ⋯ Vision Penalties Composure\n",
       "1 CB             40        500       53       ⋯ 52     61        61       \n",
       "2 ST              0       7000       52       ⋯ 68     74        76       \n",
       "3 GK            150       4000       12       ⋯ 49     17        47       \n",
       "4 GK            180       5000       14       ⋯ 51     20        64       \n",
       "5 GK            250       5000       21       ⋯ 53     25        65       \n",
       "6 ST            300        500       59       ⋯ 60     79        59       \n",
       "  Defensive.Awareness Standing.Tackle Sliding.Tackle Diving Handling Kicking\n",
       "1 59                  61              59             12     16       11     \n",
       "2 37                  39              34             13     11       13     \n",
       "3 22                  14              13             67     70       63     \n",
       "4 19                  16              14             68     66       63     \n",
       "5 12                  22              17             74     67       72     \n",
       "6 14                  36              34             12     13       14     \n",
       "  Reflexes\n",
       "1 14      \n",
       "2 15      \n",
       "3 68      \n",
       "4 71      \n",
       "5 74      \n",
       "6 15      "
      ]
     },
     "metadata": {},
     "output_type": "display_data"
    }
   ],
   "source": [
    "head(row)"
   ]
  },
  {
   "cell_type": "code",
   "execution_count": 11,
   "id": "241887d7-b8f3-4aeb-a7f2-d70ff3649993",
   "metadata": {},
   "outputs": [],
   "source": [
    "library(base)"
   ]
  },
  {
   "cell_type": "code",
   "execution_count": 12,
   "id": "1bccd028-1d9a-49ad-8b2f-75075a23f16b",
   "metadata": {},
   "outputs": [
    {
     "ename": "ERROR",
     "evalue": "Error in levels(., best_position): unused argument (best_position)\n",
     "output_type": "error",
     "traceback": [
      "Error in levels(., best_position): unused argument (best_position)\nTraceback:\n",
      "1. row %>% levels(best_position)"
     ]
    }
   ],
   "source": [
    "row%>%levels(best_position)"
   ]
  },
  {
   "cell_type": "code",
   "execution_count": null,
   "id": "08d46e8f-e981-4b11-a3c6-965ba6dd4ae6",
   "metadata": {},
   "outputs": [],
   "source": []
  }
 ],
 "metadata": {
  "kernelspec": {
   "display_name": "R",
   "language": "R",
   "name": "ir"
  },
  "language_info": {
   "codemirror_mode": "r",
   "file_extension": ".r",
   "mimetype": "text/x-r-source",
   "name": "R",
   "pygments_lexer": "r",
   "version": "4.1.2"
  }
 },
 "nbformat": 4,
 "nbformat_minor": 5
}
