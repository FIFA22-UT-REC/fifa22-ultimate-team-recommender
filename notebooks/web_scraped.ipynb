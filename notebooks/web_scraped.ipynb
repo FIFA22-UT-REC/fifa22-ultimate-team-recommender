{
 "cells": [
  {
   "cell_type": "markdown",
   "id": "e94ce343-e1c1-4b97-ab2d-6dfa2b918539",
   "metadata": {},
   "source": [
    "## This is a web scrapping for raw data using BeautifulSoup"
   ]
  },
  {
   "cell_type": "code",
   "execution_count": 1,
   "id": "64c961a9-0f55-46e0-90e0-f78eef5547dc",
   "metadata": {},
   "outputs": [],
   "source": [
    "# import libraries\n",
    "from bs4 import BeautifulSoup\n",
    "import requests\n",
    "import re\n",
    "import pandas as pd\n",
    "from itertools import chain"
   ]
  },
  {
   "cell_type": "markdown",
   "id": "46f6de61-0c7e-43e8-9dde-0c717417521b",
   "metadata": {},
   "source": [
    "Set up global variables and Dataframe from pandas to store values that we are going to retrieve/scrap from and use for loop to repeat it"
   ]
  },
  {
   "cell_type": "code",
   "execution_count": null,
   "id": "093672d0-db96-4b34-805c-bbbe4bb3e2ca",
   "metadata": {},
   "outputs": [],
   "source": [
    "players_scraped = []\n",
    "url = \"https://sofifa.com/players?offset=1\"\n",
    "res = requests.get(url)\n",
    "text = res.text\n",
    "soup = BeautifulSoup(text, \"html.parser\")\n",
    "tbody = soup.find(\"tbody\", {\"class\": \"list\"})\n",
    "trs = tbody.findAll(\"tr\")\n",
    "players_scraped.append([extract_info(tr) for tr in trs])\n",
    "\n",
    "# Convert list of lists to single list\n",
    "flatten = lambda x: list(chain.from_iterable(x))\n",
    "\n",
    "# Convert to df\n",
    "df = pd.DataFrame(flatten(players_scraped))\n",
    "df['value'] = df['value'].apply(convert_into_val)\n",
    "df.drop_duplicates(inplace=True, ignore_index=True)\n",
    "\n",
    "df.head()"
   ]
  },
  {
   "cell_type": "code",
   "execution_count": 2,
   "id": "6faac143-5889-4245-9b01-464bd47cb45e",
   "metadata": {},
   "outputs": [],
   "source": [
    "def extract_info(tr):\n",
    "    return {\n",
    "        \"name\": tr.select('td.col-name')[0].find(\"a\").get(\"aria-label\"),\n",
    "        \"country\": tr.select('td.col-name')[0].find(\"img\").get(\"title\"),\n",
    "        \"age\": tr.select('td.col.col-ae')[0].text.strip(),\n",
    "        \"overall\": tr.select('td.col.col-oa')[0].text.strip(),\n",
    "        \"potential\": tr.select('td.col.col-pt')[0].text.strip(),\n",
    "        \"club\": tr.select(\"td.col-name\")[1].find(\"a\").text,\n",
    "        # \"height\": tr.select('td.col.col-hi')[0].text.strip(),\n",
    "        # \"weight\": tr.select('td.col.col-wi')[0].text.strip(),\n",
    "        # \"foot\": tr.select('td.col.col-pf')[0].text.strip(),\n",
    "        \"best_position\": tr.select('td.col-name')[0].find(\"span\").text,\n",
    "        \"value\": tr.select('td.col.col-vl')[0].text.strip(),\n",
    "        \"wage\": tr.select('td.col.col-wg')[0].text.strip(),\n",
    "        # \"PAC\": tr.select('td.col.col-pac')[0].text.strip(),\n",
    "        # \"SHO\": tr.select('td.col.col-sho')[0].text.strip(),\n",
    "        # \"PAS\": tr.select('td.col.col-pas')[0].text.strip(),\n",
    "        # \"DRI\": tr.select('td.col.col-dir')[0].text.strip(),\n",
    "        # \"DEF\": tr.select('td.col.col-def')[0].text.strip(),\n",
    "        # \"PHY\": tr.select('td.col.col-phy')[0].text.strip()\n",
    "    }"
   ]
  },
  {
   "cell_type": "code",
   "execution_count": null,
   "id": "f83e536a-5ff1-4ad0-88e5-45b6748ed3fe",
   "metadata": {
    "tags": []
   },
   "outputs": [],
   "source": [
    "url = \"https://sofifa.com/players?offset=1\"\n",
    "columns = [\"ID\", \"Name\", \"Age\", \"Position\", \"Nationality\", \"Overall\",\n",
    "          \"Potential\", \"Club\", \"Value\", \"Wage\"]\n",
    "data = pd.DataFrame(columns = columns)\n",
    "\n",
    "src_code = requests.get(url)\n",
    "plain_text = src_code.text\n",
    "soup = BeautifulSoup(plain_text,\"html.parser\")\n",
    "tbody = soup.find(\"tbody\")\n",
    "trs = tbody.findAll(\"tr\")\n"
   ]
  },
  {
   "cell_type": "code",
   "execution_count": null,
   "id": "81c10203-7520-4419-b443-03c28e6cd05f",
   "metadata": {},
   "outputs": [
    {
     "name": "stdout",
     "output_type": "stream",
     "text": [
      "done for 2\r"
     ]
    }
   ],
   "source": [
    "base_url = \"https://sofifa.com/players?offset=\"\n",
    "columns = [\"ID\", \"Name\", \"Age\", \"Position\", \"Nationality\", \"Overall\",\n",
    "          \"Potential\", \"Club\", \"Value\", \"Wage\"]\n",
    "\n",
    "data = pd.DataFrame(columns = columns)\n",
    "p_urls = []\n",
    "for offset in range(0, 3):\n",
    "    url = base_url + str(offset * 60)\n",
    "    source_code = requests.get(url)\n",
    "    plain_text = source_code.text\n",
    "    soup = BeautifulSoup(plain_text, \"html.parser\")\n",
    "    table_body = soup.find(\"tbody\")\n",
    "    base = \"https://sofifa.com/\"\n",
    "    for row in table_body.findAll(\"tr\"):\n",
    "        p_link = tr.select('td.col-name')[0].find(\"a\").get(\"href\")\n",
    "        p_url = base + p_link\n",
    "        td = row.findAll(\"td\")\n",
    "        pid = td[0].find(\"img\").get(\"id\")\n",
    "        nationality = td[1].find(\"img\").get(\"title\")\n",
    "        name = td[1].find(\"a\").get(\"aria-label\")\n",
    "        rel = td[1].findAll(\"a\", {\"rel\" : \"nofollow\"})\n",
    "        pos = rel[0].findAll(\"span\")\n",
    "        for span in pos:\n",
    "            positions= (span.text.split) ## FIX HERE\n",
    "        age = td[2].text\n",
    "        overall = td[3].text.strip()\n",
    "        potential = td[4].text.strip()\n",
    "        club = td[5].find(\"a\").text\n",
    "        value = td[6].text.strip()\n",
    "        wage = td[7].text.strip()\n",
    "        # store the retrieved \n",
    "        player_data = pd.DataFrame([[pid, name, age, positions,nationality, overall,potential, club,value,wage]])\n",
    "        player_data.columns = columns\n",
    "        data = pd.concat([data, player_data])\n",
    "    print(\"done for \"+str(offset), end = \"\\r\")\n",
    "    p_urls.append(format(p_url))\n",
    "data.drop_duplicates()\n",
    "data.head()\n",
    "data.to_csv('../data/player_data.csv', encoding='utf-8-sig')\n",
    "    "
   ]
  },
  {
   "cell_type": "code",
   "execution_count": null,
   "id": "2b76f389-1e02-40dc-b6f8-dbbafeb9acd6",
   "metadata": {},
   "outputs": [],
   "source": [
    "# Use this to deep scrape info (NOT DONE) check later)\n",
    "# You need to first go surface to scrap and get new url within page \n",
    "# of the players and start scraping from there\n",
    "# So might a different lists or dictionaries to store new urls\n",
    "# And finish scarping it"
   ]
  },
  {
   "cell_type": "code",
   "execution_count": 44,
   "id": "d318e2a2-3620-40b0-a847-5062fe9673f3",
   "metadata": {
    "tags": []
   },
   "outputs": [
    {
     "data": {
      "text/plain": [
       "['https://sofifa.com//player/208574/filip-kostic/220051/',\n",
       " 'https://sofifa.com//player/195479/james-tavernier/220051/',\n",
       " 'https://sofifa.com//player/257540/ansgar-knauff/220051/',\n",
       " 'https://sofifa.com//player/188943/kevin-trapp/220051/',\n",
       " 'https://sofifa.com//player/224520/ryan-kent/220051/',\n",
       " 'https://sofifa.com//player/231044/joe-aribo/220051/',\n",
       " 'https://sofifa.com//player/236403/evan-ndicka/220051/',\n",
       " 'https://sofifa.com//player/247090/enzo-fernandez/220051/',\n",
       " 'https://sofifa.com//player/181098/makoto-hasebe/220051/',\n",
       " 'https://sofifa.com//player/247182/lucas-silva-melo/220051/',\n",
       " 'https://sofifa.com//player/245741/jesper-lindstrom/220051/',\n",
       " 'https://sofifa.com//player/240663/miguel-angel-merentiel/220051/',\n",
       " 'https://sofifa.com//player/247377/marcos-antonio-silva-santos/220051/',\n",
       " 'https://sofifa.com//player/253072/darwin-nunez/220051/',\n",
       " 'https://sofifa.com//player/241637/aurelien-tchouameni/220051/',\n",
       " 'https://sofifa.com//player/264240/pablo-martin-paez-gavira/220051/',\n",
       " 'https://sofifa.com//player/247819/nico-schlotterbeck/220051/',\n",
       " 'https://sofifa.com//player/239231/marc-cucurella-saseta/220051/',\n",
       " 'https://sofifa.com//player/232411/christopher-nkunku/220051/',\n",
       " 'https://sofifa.com//player/237647/ajdin-hrustic/220051/',\n",
       " 'https://sofifa.com//player/251852/karim-adeyemi/220051/',\n",
       " 'https://sofifa.com//player/158023/lionel-messi/220051/',\n",
       " 'https://sofifa.com//player/241159/marc-guehi/220051/',\n",
       " 'https://sofifa.com//player/246923/jacob-ramsey/220051/',\n",
       " 'https://sofifa.com//player/251805/jurrien-timber/220051/',\n",
       " 'https://sofifa.com//player/241721/rafael-da-conceicao-leao/220051/',\n",
       " 'https://sofifa.com//player/251517/josko-gvardiol/220051/',\n",
       " 'https://sofifa.com//player/246430/dusan-vlahovic/220051/',\n",
       " 'https://sofifa.com//player/248808/aaron-hickey/220051/',\n",
       " 'https://sofifa.com//player/261360/noah-mbamba/220051/',\n",
       " 'https://sofifa.com//player/226568/ianis-hagi/220051/',\n",
       " 'https://sofifa.com//player/252371/jude-bellingham/220051/',\n",
       " 'https://sofifa.com//player/255475/antony-matheus-dos-santos/220051/',\n",
       " 'https://sofifa.com//player/238216/conor-gallagher/220051/',\n",
       " 'https://sofifa.com//player/246104/ryan-gravenberch/220051/',\n",
       " 'https://sofifa.com//player/254796/noni-madueke/220051/',\n",
       " 'https://sofifa.com//player/226166/nordi-mukiele/220051/',\n",
       " 'https://sofifa.com//player/229752/djibril-sow/220051/',\n",
       " 'https://sofifa.com//player/240833/youssoufa-moukoko/220051/',\n",
       " 'https://sofifa.com//player/241084/luis-diaz/220051/',\n",
       " 'https://sofifa.com//player/251470/charles-de-ketelaere/220051/',\n",
       " 'https://sofifa.com//player/233848/jens-petter-hauge/220051/',\n",
       " 'https://sofifa.com//player/246174/harvey-elliott/220051/',\n",
       " 'https://sofifa.com//player/251854/pedro-gonzalez-lopez/220051/',\n",
       " 'https://sofifa.com//player/224081/kalvin-phillips/220051/',\n",
       " 'https://sofifa.com//player/239085/erling-haaland/220051/',\n",
       " 'https://sofifa.com//player/253149/jeremie-frimpong/220051/',\n",
       " 'https://sofifa.com//player/256790/jamal-musiala/220051/',\n",
       " 'https://sofifa.com//player/200215/sebastian-rode/220051/',\n",
       " 'https://sofifa.com//player/211110/paulo-dybala/220051/',\n",
       " 'https://sofifa.com//player/248243/eduardo-camavinga/220051/',\n",
       " 'https://sofifa.com//player/262118/tino-livramento/220051/',\n",
       " 'https://sofifa.com//player/238794/vinicius-jose-de-oliveira-junior/220051/',\n",
       " 'https://sofifa.com//player/193474/idrissa-gueye/220051/',\n",
       " 'https://sofifa.com//player/49000/allan-mcgregor/220051/',\n",
       " 'https://sofifa.com//player/173731/gareth-bale/220051/',\n",
       " 'https://sofifa.com//player/258942/octavian-popescu/220051/',\n",
       " 'https://sofifa.com//player/252961/tanguy-nianzou/220051/',\n",
       " 'https://sofifa.com//player/253163/ronald-araujo/220051/',\n",
       " 'https://sofifa.com//player/246618/adam-hlozek/220051/']"
      ]
     },
     "execution_count": 44,
     "metadata": {},
     "output_type": "execute_result"
    }
   ],
   "source": [
    "base = \"https://sofifa.com/\"\n",
    "base_url = \"https://sofifa.com/players?offset=\"\n",
    "p_urls = []\n",
    "for offset in range(0, 5):\n",
    "    url = base_url + str(offset * 60)\n",
    "    res = requests.get(url)\n",
    "    text = res.text\n",
    "    soup = BeautifulSoup(text, \"html.parser\")\n",
    "    tab_body = soup.find(\"tbody\")\n",
    "    trs = tab_body.findAll(\"tr\")\n",
    "    for tr in trs2:\n",
    "        link = tr.select('td.col-name')[0].find(\"a\").get(\"href\")\n",
    "        p_url = base + link\n",
    "        if (p_url not in p_urls):\n",
    "            p_urls.append(format(p_url))\n",
    "p_urls"
   ]
  },
  {
   "cell_type": "code",
   "execution_count": 32,
   "id": "9e27c897-eac0-4f22-9024-b9ba98cf6587",
   "metadata": {},
   "outputs": [
    {
     "data": {
      "text/plain": [
       "'https://sofifa.com//player/246618/adam-hlozek/220051/'"
      ]
     },
     "execution_count": 32,
     "metadata": {},
     "output_type": "execute_result"
    }
   ],
   "source": [
    "tab_body = soup.find(\"tbody\")\n",
    "trs2 = tab_body.findAll(\"tr\")\n",
    "for tr in trs2:\n",
    "    a = tr.select('td.col-name')[0].find(\"a\").get(\"href\")\n",
    "base + a"
   ]
  }
 ],
 "metadata": {
  "kernelspec": {
   "display_name": "Python 3 (ipykernel)",
   "language": "python",
   "name": "python3"
  },
  "language_info": {
   "codemirror_mode": {
    "name": "ipython",
    "version": 3
   },
   "file_extension": ".py",
   "mimetype": "text/x-python",
   "name": "python",
   "nbconvert_exporter": "python",
   "pygments_lexer": "ipython3",
   "version": "3.9.7"
  }
 },
 "nbformat": 4,
 "nbformat_minor": 5
}
