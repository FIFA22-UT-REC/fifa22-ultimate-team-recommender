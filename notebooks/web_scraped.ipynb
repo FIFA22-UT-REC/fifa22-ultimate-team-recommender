{
 "cells": [
  {
   "cell_type": "markdown",
   "id": "e94ce343-e1c1-4b97-ab2d-6dfa2b918539",
   "metadata": {},
   "source": [
    "## This is a web scrapping for raw data using BeautifulSoup"
   ]
  },
  {
   "cell_type": "code",
   "execution_count": 3,
   "id": "64c961a9-0f55-46e0-90e0-f78eef5547dc",
   "metadata": {},
   "outputs": [],
   "source": [
    "# import libraries\n",
    "from urllib.request import urlopen\n",
    "from bs4 import BeautifulSoup"
   ]
  },
  {
   "cell_type": "markdown",
   "id": "980824be-9a45-4587-813e-22f1edc674fe",
   "metadata": {},
   "source": [
    "We are interested to scrap data from Electronic Arts(EA)'s FIFA22 official player ratings database"
   ]
  },
  {
   "cell_type": "markdown",
   "id": "1e808833-5a7d-4dad-98b1-7995222f3ddc",
   "metadata": {},
   "source": [
    "The web page that we’ll open is at the following URL:"
   ]
  },
  {
   "cell_type": "markdown",
   "id": "43d8caef-5265-4ceb-a73e-3e71e219c6de",
   "metadata": {},
   "source": [
    "To open the web page, pass `url` to `urlopen()`, where it returns an `HTTPResponse` object:"
   ]
  },
  {
   "cell_type": "code",
   "execution_count": 28,
   "id": "54f25c97-ec91-438b-b687-954e05a625ef",
   "metadata": {
    "tags": []
   },
   "outputs": [],
   "source": [
    "url = \"https://www.ea.com/games/fifa/fifa-22/ratings/ratings-database\"\n",
    "page = urlopen(url)\n",
    "html = page.read().decode(\"utf-8\")\n",
    "soup = BeautifulSoup(html, \"html.parser\")\n"
   ]
  },
  {
   "cell_type": "markdown",
   "id": "c73ec387-df02-4597-9b27-22faa7a0c063",
   "metadata": {},
   "source": [
    "The following prints the title of the url to make sure we are on the right website for web scraping"
   ]
  },
  {
   "cell_type": "code",
   "execution_count": 29,
   "id": "193c7318-3319-4c8a-81e8-b027ecebed1e",
   "metadata": {
    "tags": []
   },
   "outputs": [
    {
     "data": {
      "text/plain": [
       "'FIFA 22 Ratings Database - Top Players - EA SPORTS'"
      ]
     },
     "execution_count": 29,
     "metadata": {},
     "output_type": "execute_result"
    }
   ],
   "source": [
    "soup.title.string"
   ]
  }
 ],
 "metadata": {
  "kernelspec": {
   "display_name": "Python 3 (ipykernel)",
   "language": "python",
   "name": "python3"
  },
  "language_info": {
   "codemirror_mode": {
    "name": "ipython",
    "version": 3
   },
   "file_extension": ".py",
   "mimetype": "text/x-python",
   "name": "python",
   "nbconvert_exporter": "python",
   "pygments_lexer": "ipython3",
   "version": "3.9.10"
  }
 },
 "nbformat": 4,
 "nbformat_minor": 5
}
