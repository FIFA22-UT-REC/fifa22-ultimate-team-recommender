{
 "cells": [
  {
   "cell_type": "code",
   "execution_count": 4,
   "id": "39fe75cc-ecbb-45ed-8772-2f704dc70d1a",
   "metadata": {},
   "outputs": [],
   "source": [
    "from scraper.scraper import Scraper"
   ]
  },
  {
   "cell_type": "code",
   "execution_count": 10,
   "id": "6c55fa32-8b03-4ef0-919c-c00e2811c720",
   "metadata": {},
   "outputs": [
    {
     "name": "stdout",
     "output_type": "stream",
     "text": [
      "['https://sofifa.com/?offset=0', 'https://sofifa.com/?offset=60']\n"
     ]
    }
   ],
   "source": [
    "# Proper debug here\n",
    "# Instatiate urls\n",
    "urls = []\n",
    "url1 = \"https://sofifa.com/?offset=0\"\n",
    "url2 = \"https://sofifa.com/?offset=60\"\n",
    "urls.append(url1)\n",
    "urls.append(url2)\n",
    "print(urls)"
   ]
  },
  {
   "cell_type": "code",
   "execution_count": 17,
   "id": "df96759a-fd85-45dc-a1fa-4ad71076db2f",
   "metadata": {},
   "outputs": [],
   "source": [
    "# Instantiate single scraper\n",
    "cs = Scraper(urls=urls)"
   ]
  }
 ],
 "metadata": {
  "kernelspec": {
   "display_name": "Python [conda env:fifa22]",
   "language": "python",
   "name": "conda-env-fifa22-py"
  },
  "language_info": {
   "codemirror_mode": {
    "name": "ipython",
    "version": 3
   },
   "file_extension": ".py",
   "mimetype": "text/x-python",
   "name": "python",
   "nbconvert_exporter": "python",
   "pygments_lexer": "ipython3",
   "version": "3.10.4"
  }
 },
 "nbformat": 4,
 "nbformat_minor": 5
}
