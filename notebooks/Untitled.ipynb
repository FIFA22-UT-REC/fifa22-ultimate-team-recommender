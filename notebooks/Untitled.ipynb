{
 "cells": [
  {
   "cell_type": "code",
   "execution_count": 4,
   "id": "60f8fe5a-1216-432a-b97a-c9d5ef89c402",
   "metadata": {
    "tags": []
   },
   "outputs": [],
   "source": [
    "# import libraries\n",
    "from bs4 import BeautifulSoup\n",
    "import requests\n",
    "import re\n",
    "import pandas as pd"
   ]
  },
  {
   "cell_type": "code",
   "execution_count": 5,
   "id": "f37d17d1-7491-4b87-973d-b3c1c137ee06",
   "metadata": {},
   "outputs": [],
   "source": [
    "url = \"https://sofifa.com/players?offset=1\""
   ]
  },
  {
   "cell_type": "code",
   "execution_count": 8,
   "id": "f8923f97-0947-4d89-bf67-6762f2b23245",
   "metadata": {
    "tags": []
   },
   "outputs": [],
   "source": [
    "res = requests.get(url)\n",
    "text = res.text\n",
    "soup = BeautifulSoup(text, \"html.parser\")"
   ]
  },
  {
   "cell_type": "code",
   "execution_count": 30,
   "id": "fdc3a7d3-b730-4721-9b73-7dd5bd7a1165",
   "metadata": {
    "tags": []
   },
   "outputs": [],
   "source": [
    "tbody = soup.find(\"tbody\", {\"class\": \"list\"})\n",
    "trs = tbody.findAll(\"tr\")\n",
    "for tr in trs:\n",
    "    tr.select('td.col.col-vl')[0].text.strip()\n"
   ]
  },
  {
   "cell_type": "code",
   "execution_count": null,
   "id": "ed877789-2890-41c3-a7fc-dc728dc55109",
   "metadata": {},
   "outputs": [],
   "source": []
  }
 ],
 "metadata": {
  "kernelspec": {
   "display_name": "Python 3 (ipykernel)",
   "language": "python",
   "name": "python3"
  },
  "language_info": {
   "codemirror_mode": {
    "name": "ipython",
    "version": 3
   },
   "file_extension": ".py",
   "mimetype": "text/x-python",
   "name": "python",
   "nbconvert_exporter": "python",
   "pygments_lexer": "ipython3",
   "version": "3.9.12"
  }
 },
 "nbformat": 4,
 "nbformat_minor": 5
}
