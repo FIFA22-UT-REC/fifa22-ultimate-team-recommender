{
 "cells": [
  {
   "cell_type": "code",
   "execution_count": 6,
   "id": "dcbb2913-5114-46ca-aa1b-5e2d6047e950",
   "metadata": {},
   "outputs": [
    {
     "data": {
      "text/html": [
       "<div>\n",
       "<style scoped>\n",
       "    .dataframe tbody tr th:only-of-type {\n",
       "        vertical-align: middle;\n",
       "    }\n",
       "\n",
       "    .dataframe tbody tr th {\n",
       "        vertical-align: top;\n",
       "    }\n",
       "\n",
       "    .dataframe thead th {\n",
       "        text-align: right;\n",
       "    }\n",
       "</style>\n",
       "<table border=\"1\" class=\"dataframe\">\n",
       "  <thead>\n",
       "    <tr style=\"text-align: right;\">\n",
       "      <th></th>\n",
       "      <th>name</th>\n",
       "      <th>country</th>\n",
       "      <th>age</th>\n",
       "      <th>overall</th>\n",
       "      <th>potential</th>\n",
       "      <th>club</th>\n",
       "      <th>best_position</th>\n",
       "      <th>value</th>\n",
       "      <th>wage</th>\n",
       "      <th>Crossing</th>\n",
       "      <th>...</th>\n",
       "      <th>Vision</th>\n",
       "      <th>Penalties</th>\n",
       "      <th>Composure</th>\n",
       "      <th>Defensive Awareness</th>\n",
       "      <th>Standing Tackle</th>\n",
       "      <th>Sliding Tackle</th>\n",
       "      <th>Diving</th>\n",
       "      <th>Handling</th>\n",
       "      <th>Kicking</th>\n",
       "      <th>Reflexes</th>\n",
       "    </tr>\n",
       "  </thead>\n",
       "  <tbody>\n",
       "    <tr>\n",
       "      <th>0</th>\n",
       "      <td>Greg Halford</td>\n",
       "      <td>England</td>\n",
       "      <td>36</td>\n",
       "      <td>59</td>\n",
       "      <td>59</td>\n",
       "      <td>Waterford FC</td>\n",
       "      <td>CB</td>\n",
       "      <td>€40K</td>\n",
       "      <td>€500</td>\n",
       "      <td>53</td>\n",
       "      <td>...</td>\n",
       "      <td>52</td>\n",
       "      <td>61</td>\n",
       "      <td>61</td>\n",
       "      <td>59</td>\n",
       "      <td>61</td>\n",
       "      <td>59</td>\n",
       "      <td>12</td>\n",
       "      <td>16</td>\n",
       "      <td>11</td>\n",
       "      <td>14</td>\n",
       "    </tr>\n",
       "    <tr>\n",
       "      <th>1</th>\n",
       "      <td>Santiago Silva</td>\n",
       "      <td>Uruguay</td>\n",
       "      <td>40</td>\n",
       "      <td>71</td>\n",
       "      <td>71</td>\n",
       "      <td>Club Atlético Aldosivi</td>\n",
       "      <td>ST</td>\n",
       "      <td>€0</td>\n",
       "      <td>€7K</td>\n",
       "      <td>52</td>\n",
       "      <td>...</td>\n",
       "      <td>68</td>\n",
       "      <td>74</td>\n",
       "      <td>76</td>\n",
       "      <td>37</td>\n",
       "      <td>39</td>\n",
       "      <td>34</td>\n",
       "      <td>13</td>\n",
       "      <td>11</td>\n",
       "      <td>13</td>\n",
       "      <td>15</td>\n",
       "    </tr>\n",
       "    <tr>\n",
       "      <th>2</th>\n",
       "      <td>Sammy Bossut</td>\n",
       "      <td>Belgium</td>\n",
       "      <td>35</td>\n",
       "      <td>69</td>\n",
       "      <td>69</td>\n",
       "      <td>SV Zulte Waregem</td>\n",
       "      <td>GK</td>\n",
       "      <td>€150K</td>\n",
       "      <td>€4K</td>\n",
       "      <td>12</td>\n",
       "      <td>...</td>\n",
       "      <td>49</td>\n",
       "      <td>17</td>\n",
       "      <td>47</td>\n",
       "      <td>22</td>\n",
       "      <td>14</td>\n",
       "      <td>13</td>\n",
       "      <td>67</td>\n",
       "      <td>70</td>\n",
       "      <td>63</td>\n",
       "      <td>68</td>\n",
       "    </tr>\n",
       "    <tr>\n",
       "      <th>3</th>\n",
       "      <td>Marcelo Barovero</td>\n",
       "      <td>Argentina</td>\n",
       "      <td>37</td>\n",
       "      <td>70</td>\n",
       "      <td>70</td>\n",
       "      <td>Club Atlético de San Luis</td>\n",
       "      <td>GK</td>\n",
       "      <td>€180K</td>\n",
       "      <td>€5K</td>\n",
       "      <td>14</td>\n",
       "      <td>...</td>\n",
       "      <td>51</td>\n",
       "      <td>20</td>\n",
       "      <td>64</td>\n",
       "      <td>19</td>\n",
       "      <td>16</td>\n",
       "      <td>14</td>\n",
       "      <td>68</td>\n",
       "      <td>66</td>\n",
       "      <td>63</td>\n",
       "      <td>71</td>\n",
       "    </tr>\n",
       "    <tr>\n",
       "      <th>4</th>\n",
       "      <td>Enrique Bologna</td>\n",
       "      <td>Argentina</td>\n",
       "      <td>39</td>\n",
       "      <td>72</td>\n",
       "      <td>72</td>\n",
       "      <td>Club Atlético Banfield</td>\n",
       "      <td>GK</td>\n",
       "      <td>€250K</td>\n",
       "      <td>€5K</td>\n",
       "      <td>21</td>\n",
       "      <td>...</td>\n",
       "      <td>53</td>\n",
       "      <td>25</td>\n",
       "      <td>65</td>\n",
       "      <td>12</td>\n",
       "      <td>22</td>\n",
       "      <td>17</td>\n",
       "      <td>74</td>\n",
       "      <td>67</td>\n",
       "      <td>72</td>\n",
       "      <td>74</td>\n",
       "    </tr>\n",
       "  </tbody>\n",
       "</table>\n",
       "<p>5 rows × 42 columns</p>\n",
       "</div>"
      ],
      "text/plain": [
       "               name    country  age  overall  potential  \\\n",
       "0      Greg Halford    England   36       59         59   \n",
       "1    Santiago Silva    Uruguay   40       71         71   \n",
       "2      Sammy Bossut    Belgium   35       69         69   \n",
       "3  Marcelo Barovero  Argentina   37       70         70   \n",
       "4   Enrique Bologna  Argentina   39       72         72   \n",
       "\n",
       "                        club best_position  value  wage  Crossing  ...  \\\n",
       "0               Waterford FC            CB   €40K  €500        53  ...   \n",
       "1     Club Atlético Aldosivi            ST     €0   €7K        52  ...   \n",
       "2           SV Zulte Waregem            GK  €150K   €4K        12  ...   \n",
       "3  Club Atlético de San Luis            GK  €180K   €5K        14  ...   \n",
       "4     Club Atlético Banfield            GK  €250K   €5K        21  ...   \n",
       "\n",
       "   Vision  Penalties  Composure  Defensive Awareness  Standing Tackle  \\\n",
       "0      52         61         61                   59               61   \n",
       "1      68         74         76                   37               39   \n",
       "2      49         17         47                   22               14   \n",
       "3      51         20         64                   19               16   \n",
       "4      53         25         65                   12               22   \n",
       "\n",
       "   Sliding Tackle  Diving  Handling  Kicking  Reflexes  \n",
       "0              59      12        16       11        14  \n",
       "1              34      13        11       13        15  \n",
       "2              13      67        70       63        68  \n",
       "3              14      68        66       63        71  \n",
       "4              17      74        67       72        74  \n",
       "\n",
       "[5 rows x 42 columns]"
      ]
     },
     "execution_count": 6,
     "metadata": {},
     "output_type": "execute_result"
    }
   ],
   "source": [
    "import pandas as pd\n",
    "from sklearn.model_selection import train_test_split\n",
    "path = \"../data/raw/player_raw_data.csv\"\n",
    "df = pd.read_csv(path)\n",
    "df.head()"
   ]
  },
  {
   "cell_type": "code",
   "execution_count": 7,
   "id": "2d640f29-aef2-4d34-807e-695defbf0449",
   "metadata": {},
   "outputs": [
    {
     "data": {
      "text/plain": [
       "Index(['name', 'country', 'age', 'overall', 'potential', 'club',\n",
       "       'best_position', 'value', 'wage', 'Crossing', 'Finishing',\n",
       "       'Heading Accuracy', 'Short passing', 'Volleys', 'Dribbling', 'Curve',\n",
       "       'Fk Accuracy', 'Long Passing', 'Ball Control', 'Acceleration',\n",
       "       'Sprint Speed', 'Agility', 'Reactions', 'Balance', 'Shot Power',\n",
       "       'Jumping', 'Stamina', 'Strength', 'Long Shots', 'Aggression',\n",
       "       'Interceptions', 'Positioning', 'Vision', 'Penalties', 'Composure',\n",
       "       'Defensive Awareness', 'Standing Tackle', 'Sliding Tackle', 'Diving',\n",
       "       'Handling', 'Kicking', 'Reflexes'],\n",
       "      dtype='object')"
      ]
     },
     "execution_count": 7,
     "metadata": {},
     "output_type": "execute_result"
    }
   ],
   "source": [
    "df.columns"
   ]
  },
  {
   "cell_type": "code",
   "execution_count": 8,
   "id": "7e8e0fe7-e7c4-447e-97be-b00057d86c71",
   "metadata": {},
   "outputs": [],
   "source": [
    "train_df, test_df = train_test_split(df, test_size=0.20, random_state=123)"
   ]
  },
  {
   "cell_type": "code",
   "execution_count": 9,
   "id": "7972b39c-bca8-4efe-a77d-564f7202a817",
   "metadata": {},
   "outputs": [],
   "source": [
    "numeric_feats = [\"age\", \"overall\", \"potential\", \n",
    "                 \"Crossing\",\"Finishing\", \"Heading Accuracy\", \n",
    "                 \"Short passing\", \"Volleys\", \"Dribbling\", \"Curve\",\n",
    "                \"Fk Accuracy\", \"Long Passing\", \"Ball Control\",\n",
    "                \"Acceleration\", \"Sprint Speed\", \"Agility\", \"Reactions\",\n",
    "                \"Balance\", \"Shot Power\", \"Jumping\", \"Stamina\", \"Strength\",\n",
    "                \"Long Shots\", \"Aggression\", \"Interceptions\", \"Positioning\", \"Vision\",\n",
    "                \"Penalties\", \"Composure\", \"Defensive Awareness\", \"Standing Tackle\",\n",
    "                \"Sliding Tackle\",  \"Diving\", \"Handling\", \"Kicking\", \"Reflexes\"]\n",
    "categorical_feats = [\"country\"] # \"name\"\n",
    "drop_feats = [\"value\", \"wage\", \"name\"]"
   ]
  },
  {
   "cell_type": "code",
   "execution_count": 10,
   "id": "54d137ff-037c-42d4-a4c4-ed1f0899324f",
   "metadata": {},
   "outputs": [
    {
     "data": {
      "text/plain": [
       "36"
      ]
     },
     "execution_count": 10,
     "metadata": {},
     "output_type": "execute_result"
    }
   ],
   "source": [
    "len(numeric_feats)"
   ]
  },
  {
   "cell_type": "code",
   "execution_count": 14,
   "id": "7c2c98c9-0a49-40ba-8f0d-5f40951d7037",
   "metadata": {},
   "outputs": [],
   "source": [
    "from sklearn.preprocessing import StandardScaler\n",
    "from sklearn.cluster import KMeans\n",
    "from sklearn.compose import ColumnTransformer, make_column_transformer\n",
    "from sklearn.dummy import DummyClassifier, DummyRegressor\n",
    "from sklearn.impute import SimpleImputer\n",
    "from sklearn.model_selection import cross_val_score, cross_validate, train_test_split\n",
    "from sklearn.neighbors import KNeighborsClassifier\n",
    "\n",
    "from sklearn.pipeline import Pipeline, make_pipeline\n",
    "from sklearn.preprocessing import OneHotEncoder, OrdinalEncoder, StandardScaler\n",
    "from sklearn.svm import SVC\n",
    "from sklearn.tree import DecisionTreeClassifier"
   ]
  },
  {
   "cell_type": "code",
   "execution_count": 15,
   "id": "75f206de-f59a-4580-ad5f-e7c0ac2dd412",
   "metadata": {},
   "outputs": [],
   "source": [
    "preprocessor = make_column_transformer(\n",
    "    (\n",
    "        make_pipeline(SimpleImputer(), StandardScaler()),\n",
    "        numeric_feats,\n",
    "    ),  # scaling on numeric features\n",
    "    (\n",
    "        OneHotEncoder(handle_unknown=\"ignore\", sparse = False),\n",
    "        categorical_feats,\n",
    "    ),  # OHE on categorical features\n",
    "    #(\"passthrough\", passthrough_feats),  # no transformations on the binary features\n",
    "    (\"drop\", drop_feats),\n",
    ")\n",
    "trans = preprocessor.fit_transform(train_df)\n"
   ]
  },
  {
   "cell_type": "code",
   "execution_count": 16,
   "id": "f2217e68-2d12-4657-bc8d-92a52751b900",
   "metadata": {},
   "outputs": [],
   "source": [
    "from sklearn.decomposition import PCA\n",
    "import matplotlib.pyplot as plt"
   ]
  },
  {
   "cell_type": "code",
   "execution_count": 64,
   "id": "2acd3545-5585-4040-9a1f-edaae4e54489",
   "metadata": {},
   "outputs": [],
   "source": [
    "pca = PCA(n_components=18)\n",
    "new_trans = pca.fit_transform(trans)"
   ]
  },
  {
   "cell_type": "code",
   "execution_count": 65,
   "id": "e25a83d9-522d-4930-b685-098a12784a2e",
   "metadata": {},
   "outputs": [],
   "source": [
    "# Define Model\n",
    "kmeans_model = KMeans(n_clusters=9, random_state=3021)\n",
    "\n",
    "# Fit into dataset fit\n",
    "kmeans_predict = kmeans_model.fit_predict(new_trans)"
   ]
  },
  {
   "cell_type": "code",
   "execution_count": 66,
   "id": "eec50ccc-4a91-40d6-8f2b-711fc9ab74e1",
   "metadata": {},
   "outputs": [],
   "source": [
    "import matplotlib.cm as cm\n",
    "import numpy as np\n",
    "x = np.arange(10)\n",
    "ys = [i+x+(i*x)**2 for i in range(10)]\n",
    "colors = cm.rainbow(np.linspace(0, 1, len(ys)))"
   ]
  },
  {
   "cell_type": "code",
   "execution_count": 70,
   "id": "10ab4f07-6604-4adf-a3e1-b2da684f5f1f",
   "metadata": {},
   "outputs": [
    {
     "name": "stderr",
     "output_type": "stream",
     "text": [
      "*c* argument looks like a single numeric RGB or RGBA sequence, which should be avoided as value-mapping will have precedence in case its length matches with *x* & *y*.  Please use the *color* keyword-argument or provide a 2D array with a single row if you intend to specify the same RGB or RGBA value for all points.\n",
      "*c* argument looks like a single numeric RGB or RGBA sequence, which should be avoided as value-mapping will have precedence in case its length matches with *x* & *y*.  Please use the *color* keyword-argument or provide a 2D array with a single row if you intend to specify the same RGB or RGBA value for all points.\n",
      "*c* argument looks like a single numeric RGB or RGBA sequence, which should be avoided as value-mapping will have precedence in case its length matches with *x* & *y*.  Please use the *color* keyword-argument or provide a 2D array with a single row if you intend to specify the same RGB or RGBA value for all points.\n",
      "*c* argument looks like a single numeric RGB or RGBA sequence, which should be avoided as value-mapping will have precedence in case its length matches with *x* & *y*.  Please use the *color* keyword-argument or provide a 2D array with a single row if you intend to specify the same RGB or RGBA value for all points.\n",
      "*c* argument looks like a single numeric RGB or RGBA sequence, which should be avoided as value-mapping will have precedence in case its length matches with *x* & *y*.  Please use the *color* keyword-argument or provide a 2D array with a single row if you intend to specify the same RGB or RGBA value for all points.\n",
      "*c* argument looks like a single numeric RGB or RGBA sequence, which should be avoided as value-mapping will have precedence in case its length matches with *x* & *y*.  Please use the *color* keyword-argument or provide a 2D array with a single row if you intend to specify the same RGB or RGBA value for all points.\n",
      "*c* argument looks like a single numeric RGB or RGBA sequence, which should be avoided as value-mapping will have precedence in case its length matches with *x* & *y*.  Please use the *color* keyword-argument or provide a 2D array with a single row if you intend to specify the same RGB or RGBA value for all points.\n",
      "*c* argument looks like a single numeric RGB or RGBA sequence, which should be avoided as value-mapping will have precedence in case its length matches with *x* & *y*.  Please use the *color* keyword-argument or provide a 2D array with a single row if you intend to specify the same RGB or RGBA value for all points.\n",
      "*c* argument looks like a single numeric RGB or RGBA sequence, which should be avoided as value-mapping will have precedence in case its length matches with *x* & *y*.  Please use the *color* keyword-argument or provide a 2D array with a single row if you intend to specify the same RGB or RGBA value for all points.\n"
     ]
    },
    {
     "data": {
      "image/png": "[encoded data removed]",
      "text/plain": [
       "<Figure size 432x288 with 1 Axes>"
      ]
     },
     "metadata": {
      "needs_background": "light"
     },
     "output_type": "display_data"
    }
   ],
   "source": [
    "# Visualising the clusters\n",
    "plt.scatter(trans[kmeans_predict == 0, 0], trans[kmeans_predict == 0, 1], s = 5, c = colors[0], label = \"1\")\n",
    "plt.scatter(trans[kmeans_predict == 1, 0], trans[kmeans_predict == 1, 1], s = 5, c = colors[1], label = \"2\")\n",
    "plt.scatter(trans[kmeans_predict == 2, 0], trans[kmeans_predict == 2, 1], s = 5, c = colors[2], label = \"3\")\n",
    "plt.scatter(trans[kmeans_predict == 3, 0], trans[kmeans_predict == 3, 1], s = 5, c = colors[3], label = \"4\")\n",
    "plt.scatter(trans[kmeans_predict == 4, 0], trans[kmeans_predict == 4, 1], s = 5, c = colors[4], label = \"5\")\n",
    "plt.scatter(trans[kmeans_predict == 5, 0], trans[kmeans_predict == 5, 1], s = 5, c = colors[5], label = \"6\")\n",
    "plt.scatter(trans[kmeans_predict == 6, 0], trans[kmeans_predict == 6, 1], s = 5, c = colors[6], label = \"7\")\n",
    "plt.scatter(trans[kmeans_predict == 7, 0], trans[kmeans_predict == 7, 1], s = 5, c = colors[7], label = \"8\")\n",
    "plt.scatter(trans[kmeans_predict == 8, 0], trans[kmeans_predict == 8, 1], s = 5, c = colors[8], label = \"9\")\n",
    "\n",
    "# Plotting the centroids of the clusters\n",
    "plt.scatter(kmeans_model.cluster_centers_[:, 0], kmeans_model.cluster_centers_[:,1], s = 10, c = \"black\", label = \"Centroids\")\n",
    "plt.legend();"
   ]
  }
 ],
 "metadata": {
  "kernelspec": {
   "display_name": "Python 3 (ipykernel)",
   "language": "python",
   "name": "python3"
  },
  "language_info": {
   "codemirror_mode": {
    "name": "ipython",
    "version": 3
   },
   "file_extension": ".py",
   "mimetype": "text/x-python",
   "name": "python",
   "nbconvert_exporter": "python",
   "pygments_lexer": "ipython3",
   "version": "3.9.7"
  }
 },
 "nbformat": 4,
 "nbformat_minor": 5
}
